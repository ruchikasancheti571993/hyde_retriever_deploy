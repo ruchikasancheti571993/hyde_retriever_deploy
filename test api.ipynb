{
 "cells": [
  {
   "cell_type": "code",
   "execution_count": 1,
   "metadata": {},
   "outputs": [],
   "source": [
    "import requests"
   ]
  },
  {
   "cell_type": "code",
   "execution_count": 7,
   "metadata": {},
   "outputs": [
    {
     "name": "stdout",
     "output_type": "stream",
     "text": [
      "Hyde Retriever OpenAI Response: Apollo was a successful space program that involved reliable spacecraft hardware, well-planned and executed flight missions, and highly trained flight crews. The spacecraft development for Apollo focused on design, testing, control of changes, and interpretation of discrepancies. The principles of manned spacecraft design for Apollo combined aircraft design practice with elements of missile-design technology.\n"
     ]
    }
   ],
   "source": [
    "response = requests.post('http://127.0.0.1:5000/hyde_query', data={'query':'what is apollo?'})\n",
    "print('Hyde Retriever OpenAI Response:', response.json()['response'])"
   ]
  },
  {
   "cell_type": "code",
   "execution_count": 8,
   "metadata": {},
   "outputs": [
    {
     "name": "stdout",
     "output_type": "stream",
     "text": [
      "Normal Retriever OpenAI Response: Apollo was a successful space program that involved reliable spacecraft hardware, well-planned and executed flight missions, and highly trained flight crews. The spacecraft development for Apollo focused on design, testing, control of changes, and interpretation of discrepancies. The principles of manned spacecraft design for Apollo combined aircraft design practice with elements of missile-design technology.\n"
     ]
    }
   ],
   "source": [
    "response = requests.post('http://127.0.0.1:5000/normal_retrieval_query', data={'query':'what is apollo?'})\n",
    "print('Normal Retriever OpenAI Response:', response.json()['response'])"
   ]
  },
  {
   "cell_type": "code",
   "execution_count": null,
   "metadata": {},
   "outputs": [],
   "source": []
  }
 ],
 "metadata": {
  "kernelspec": {
   "display_name": "venv",
   "language": "python",
   "name": "python3"
  },
  "language_info": {
   "codemirror_mode": {
    "name": "ipython",
    "version": 3
   },
   "file_extension": ".py",
   "mimetype": "text/x-python",
   "name": "python",
   "nbconvert_exporter": "python",
   "pygments_lexer": "ipython3",
   "version": "3.8.10"
  }
 },
 "nbformat": 4,
 "nbformat_minor": 2
}
